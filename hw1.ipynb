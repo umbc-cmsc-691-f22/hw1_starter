{
 "cells": [
  {
   "cell_type": "markdown",
   "id": "7acb7377",
   "metadata": {},
   "source": [
    "# Starter notebook for HW1, UMBC CMSC 491/691 F22\n",
    " * make sure your python has the rdflib and owlrl packages installed\n",
    " * complete the family.ttl ontology and myfamily.ttl file with triples about you and some of your family members (real or imaginary)\n",
    " * change the cell that sets myId to be the one for you\n",
    " * run the notebook, which will load your ontology and data into rdflib and draw all possible inferences, and write the file myfamily_plus.ttl\n",
    " * Be sure to save the final notebook and also save it as a python program via \"save as\""
   ]
  },
  {
   "cell_type": "code",
   "execution_count": null,
   "id": "d02a9308",
   "metadata": {},
   "outputs": [],
   "source": [
    "from rdflib import Graph, Namespace, Literal, URIRef\n",
    "from owlrl.CombinedClosure import RDFS_OWLRL_Semantics"
   ]
  },
  {
   "cell_type": "markdown",
   "id": "7540d337",
   "metadata": {},
   "source": [
    "## We assume that these files exist in the current directory and represent the family ontology and data about some family members"
   ]
  },
  {
   "cell_type": "code",
   "execution_count": null,
   "id": "3e8b6cb8",
   "metadata": {},
   "outputs": [],
   "source": [
    "ontologyFile = \"family.ttl\"   # family ontology\n",
    "dataFile = \"myfamily.ttl\"     # family data"
   ]
  },
  {
   "cell_type": "markdown",
   "id": "f550f369",
   "metadata": {},
   "source": [
    "## Change this to be the identfier for your node in the graph"
   ]
  },
  {
   "cell_type": "code",
   "execution_count": null,
   "id": "c81de40c",
   "metadata": {},
   "outputs": [],
   "source": [
    "myId = \"ME\"                  # id of item for you, e.g., 'tim'"
   ]
  },
  {
   "cell_type": "markdown",
   "id": "82c7fd88",
   "metadata": {},
   "source": [
    "## Two simple functions for showing graphs"
   ]
  },
  {
   "cell_type": "code",
   "execution_count": null,
   "id": "e86d8181",
   "metadata": {},
   "outputs": [],
   "source": [
    "def showGraph(g, format='ttl'):\n",
    "    ## Print the serialization of graph g using Turtle. We bind our two namespaces to\n",
    "    ## short names to make the serialization easier to read\n",
    "    g.bind('fam', Namespace(\"http://example.org/family/\"))\n",
    "    g.bind('myfam', Namespace(\"http://example.org/myfamily/\"))\n",
    "    print(f\"the graph has {len(g)} triples\")\n",
    "    print(g.serialize(format=format))\n",
    "    \n",
    "def showEntity(G, id, uri=\"http://example.org/myfamily/\"):\n",
    "    ## show triples in graph G where id is either subject or object\n",
    "    ## returns the graph\n",
    "    entity = URIRef(uri+id)\n",
    "    entityGraph = Graph()\n",
    "    # add G's triples with entity id in either the subject or object position\n",
    "    entityGraph += G.triples((entity, None, None))\n",
    "    entityGraph += G.triples((None, None, entity))\n",
    "    print(f\"Graph for entity {entity}\")\n",
    "    showGraph(entityGraph)\n",
    "    return entityGraph"
   ]
  },
  {
   "cell_type": "markdown",
   "id": "8c2028b7",
   "metadata": {},
   "source": [
    "## Create a graph from the ontology and data files and show it"
   ]
  },
  {
   "cell_type": "code",
   "execution_count": null,
   "id": "e6ab8f37",
   "metadata": {},
   "outputs": [],
   "source": [
    "ontology = Graph().parse(ontologyFile)\n",
    "data = Graph().parse(dataFile)\n",
    "g = ontology + data\n",
    "# add prefix fam: for the ontology and and myfam: for the data\n",
    "g.bind('fam', Namespace(\"http://example.org/family/\"))\n",
    "g.bind('myfam', Namespace(\"http://example.org/myfamily/\"))\n",
    "showGraph(g, format=\"ttl\")"
   ]
  },
  {
   "cell_type": "markdown",
   "id": "d22d5f23",
   "metadata": {},
   "source": [
    "## Compute g's deductive closure and show it\n",
    "Note that it includes many triples from rdf, rdfs, and owl that are standard and not of interest to us"
   ]
  },
  {
   "cell_type": "code",
   "execution_count": null,
   "id": "b1d3083d",
   "metadata": {},
   "outputs": [],
   "source": [
    "# add to graph g all triples inferred by the RDFS and OWL ontologies\n",
    "x = RDFS_OWLRL_Semantics(g, False, False, False)\n",
    "x.closure()\n",
    "x.flush_stored_triples()\n",
    "showGraph(g)"
   ]
  },
  {
   "cell_type": "markdown",
   "id": "223c830f",
   "metadata": {},
   "source": [
    "## Show the subgraph with just triples where you are the subject and save it to me.ttl"
   ]
  },
  {
   "cell_type": "code",
   "execution_count": null,
   "id": "037772fb",
   "metadata": {},
   "outputs": [],
   "source": [
    "me = showEntity(g, myId)\n",
    "me.serialize(destination=\"me.ttl\", format='ttl')"
   ]
  },
  {
   "cell_type": "markdown",
   "id": "a34bb511",
   "metadata": {},
   "source": [
    "## Write the final graph with inferences to the file myfamily_plus.ttl\n",
    "This will include many triples from the rdf, rdfs and owl ontologies which are not of interest to us, since they are standard and we can always load them as needed.  In theory, we should be able to remove them easily using rdflib, but I was not successful in doing so."
   ]
  },
  {
   "cell_type": "code",
   "execution_count": null,
   "id": "c4c84673",
   "metadata": {},
   "outputs": [],
   "source": [
    "g.serialize(destination=\"myfamily_plus.ttl\", format='ttl')"
   ]
  },
  {
   "cell_type": "markdown",
   "id": "49ff07dd",
   "metadata": {},
   "source": [
    "🛑"
   ]
  },
  {
   "cell_type": "code",
   "execution_count": null,
   "id": "0082555e",
   "metadata": {},
   "outputs": [],
   "source": []
  }
 ],
 "metadata": {
  "kernelspec": {
   "display_name": "Python 3 (ipykernel)",
   "language": "python",
   "name": "python3"
  },
  "language_info": {
   "codemirror_mode": {
    "name": "ipython",
    "version": 3
   },
   "file_extension": ".py",
   "mimetype": "text/x-python",
   "name": "python",
   "nbconvert_exporter": "python",
   "pygments_lexer": "ipython3",
   "version": "3.9.7"
  }
 },
 "nbformat": 4,
 "nbformat_minor": 5
}
